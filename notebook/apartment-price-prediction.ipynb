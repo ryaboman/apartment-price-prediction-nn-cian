{
 "cells": [
  {
   "cell_type": "markdown",
   "id": "5f631065",
   "metadata": {
    "id": "5f631065"
   },
   "source": [
    "# Предсказание стоимости квартир в Нижнем Новгороде"
   ]
  },
  {
   "cell_type": "markdown",
   "id": "mjEsOF5yomen",
   "metadata": {
    "id": "mjEsOF5yomen"
   },
   "source": [
    "Запуск блокнота предполагается как на локальном компьютере, так и в Colab. Поэтому ниже реализован алгоритм определения где был запущен блокнот.\n",
    "\n",
    "Также отметим, что при запуске в Colab необходимо предоставить доступ к google drive."
   ]
  },
  {
   "cell_type": "code",
   "execution_count": 1,
   "id": "GHT_3Ui_2kGp",
   "metadata": {
    "colab": {
     "base_uri": "https://localhost:8080/"
    },
    "executionInfo": {
     "elapsed": 92859,
     "status": "ok",
     "timestamp": 1728101743729,
     "user": {
      "displayName": "Алексей Рябов",
      "userId": "14328438439237098695"
     },
     "user_tz": -180
    },
    "id": "GHT_3Ui_2kGp",
    "outputId": "b568efb8-7a70-46af-e1fd-0f3c6a80cd8c"
   },
   "outputs": [],
   "source": [
    "try:\n",
    "  from google.colab import files\n",
    "  from google.colab import drive\n",
    "\n",
    "  drive.mount('/content/drive')\n",
    "\n",
    "  IN_COLAB = True\n",
    "except:\n",
    "  IN_COLAB = False"
   ]
  },
  {
   "cell_type": "code",
   "execution_count": 2,
   "id": "125eaa37",
   "metadata": {
    "executionInfo": {
     "elapsed": 447,
     "status": "ok",
     "timestamp": 1728101744141,
     "user": {
      "displayName": "Алексей Рябов",
      "userId": "14328438439237098695"
     },
     "user_tz": -180
    },
    "id": "125eaa37"
   },
   "outputs": [],
   "source": [
    "import pandas as pd\n",
    "import re"
   ]
  },
  {
   "cell_type": "code",
   "execution_count": 3,
   "id": "9a1caab5",
   "metadata": {
    "executionInfo": {
     "elapsed": 2181,
     "status": "ok",
     "timestamp": 1728101746297,
     "user": {
      "displayName": "Алексей Рябов",
      "userId": "14328438439237098695"
     },
     "user_tz": -180
    },
    "id": "9a1caab5"
   },
   "outputs": [],
   "source": [
    "from sklearn.model_selection import train_test_split\n",
    "from sklearn.metrics import mean_squared_error\n",
    "from sklearn.tree import DecisionTreeRegressor\n",
    "from sklearn.ensemble import RandomForestRegressor\n",
    "from sklearn.linear_model import LinearRegression\n",
    "from sklearn.compose import ColumnTransformer\n",
    "from sklearn.preprocessing import StandardScaler, OneHotEncoder, OrdinalEncoder\n",
    "from sklearn.pipeline import Pipeline\n",
    "from sklearn.model_selection import GridSearchCV"
   ]
  },
  {
   "cell_type": "code",
   "execution_count": 4,
   "id": "fd757926",
   "metadata": {
    "colab": {
     "base_uri": "https://localhost:8080/"
    },
    "executionInfo": {
     "elapsed": 5577,
     "status": "ok",
     "timestamp": 1728101751852,
     "user": {
      "displayName": "Алексей Рябов",
      "userId": "14328438439237098695"
     },
     "user_tz": -180
    },
    "id": "fd757926",
    "outputId": "f450cb99-a041-4867-e0c0-9a480adb129f"
   },
   "outputs": [],
   "source": [
    "!pip install -U phik --quiet"
   ]
  },
  {
   "cell_type": "code",
   "execution_count": 5,
   "id": "dc344ace",
   "metadata": {
    "executionInfo": {
     "elapsed": 706,
     "status": "ok",
     "timestamp": 1728101752484,
     "user": {
      "displayName": "Алексей Рябов",
      "userId": "14328438439237098695"
     },
     "user_tz": -180
    },
    "id": "dc344ace"
   },
   "outputs": [],
   "source": [
    "from phik import resources, report\n",
    "import matplotlib.pyplot as plt\n",
    "\n",
    "import seaborn as sns"
   ]
  },
  {
   "cell_type": "code",
   "execution_count": 16,
   "id": "2ebc7fd5",
   "metadata": {
    "colab": {
     "base_uri": "https://localhost:8080/"
    },
    "executionInfo": {
     "elapsed": 14087,
     "status": "ok",
     "timestamp": 1728101766548,
     "user": {
      "displayName": "Алексей Рябов",
      "userId": "14328438439237098695"
     },
     "user_tz": -180
    },
    "id": "2ebc7fd5",
    "outputId": "cf6d33ae-30ed-4d9a-c4ce-fc3b0b9cb1f5"
   },
   "outputs": [],
   "source": [
    "!pip install -U pandas-profiling --quiet"
   ]
  },
  {
   "cell_type": "code",
   "execution_count": 17,
   "id": "Cu6BJNM8Q_Ja",
   "metadata": {
    "executionInfo": {
     "elapsed": 3416,
     "status": "ok",
     "timestamp": 1728101769928,
     "user": {
      "displayName": "Алексей Рябов",
      "userId": "14328438439237098695"
     },
     "user_tz": -180
    },
    "id": "Cu6BJNM8Q_Ja"
   },
   "outputs": [],
   "source": [
    "#from pandas_profiling import ProfileReport\n",
    "from ydata_profiling import ProfileReport"
   ]
  },
  {
   "cell_type": "code",
   "execution_count": 18,
   "id": "72cb1b33",
   "metadata": {
    "colab": {
     "base_uri": "https://localhost:8080/"
    },
    "executionInfo": {
     "elapsed": 16987,
     "status": "ok",
     "timestamp": 1728101786878,
     "user": {
      "displayName": "Алексей Рябов",
      "userId": "14328438439237098695"
     },
     "user_tz": -180
    },
    "id": "72cb1b33",
    "outputId": "b26b734c-886f-4e98-bc3a-9fa6404b7311"
   },
   "outputs": [],
   "source": [
    "!pip install -U catboost --quiet\n",
    "from catboost import CatBoostRegressor"
   ]
  },
  {
   "cell_type": "code",
   "execution_count": 19,
   "id": "lWMO0ZGTkHtw",
   "metadata": {
    "executionInfo": {
     "elapsed": 602,
     "status": "ok",
     "timestamp": 1728101787458,
     "user": {
      "displayName": "Алексей Рябов",
      "userId": "14328438439237098695"
     },
     "user_tz": -180
    },
    "id": "lWMO0ZGTkHtw"
   },
   "outputs": [],
   "source": [
    "from datetime import datetime"
   ]
  },
  {
   "cell_type": "markdown",
   "id": "Vzb8b27ywVfD",
   "metadata": {
    "id": "Vzb8b27ywVfD"
   },
   "source": [
    "Чтение данных"
   ]
  },
  {
   "cell_type": "code",
   "execution_count": 20,
   "id": "z2pWzd3Ov8sa",
   "metadata": {
    "executionInfo": {
     "elapsed": 1381,
     "status": "ok",
     "timestamp": 1728101788802,
     "user": {
      "displayName": "Алексей Рябов",
      "userId": "14328438439237098695"
     },
     "user_tz": -180
    },
    "id": "z2pWzd3Ov8sa"
   },
   "outputs": [],
   "source": [
    "path_data = ''\n",
    "if IN_COLAB:\n",
    "  path_data = '/content/drive/MyDrive/Colab Notebooks/apartment-price-prediction/'\n",
    "\n",
    "data = pd.read_csv(path_data + 'dataset/data_flats.csv', decimal=',')"
   ]
  },
  {
   "cell_type": "code",
   "execution_count": 21,
   "id": "eb00981b",
   "metadata": {
    "colab": {
     "base_uri": "https://localhost:8080/",
     "height": 638
    },
    "executionInfo": {
     "elapsed": 114,
     "status": "ok",
     "timestamp": 1728101788804,
     "user": {
      "displayName": "Алексей Рябов",
      "userId": "14328438439237098695"
     },
     "user_tz": -180
    },
    "id": "eb00981b",
    "outputId": "57c1195e-e2ee-4137-b0b6-7dad45b9505e"
   },
   "outputs": [
    {
     "data": {
      "text/html": [
       "<div>\n",
       "<style scoped>\n",
       "    .dataframe tbody tr th:only-of-type {\n",
       "        vertical-align: middle;\n",
       "    }\n",
       "\n",
       "    .dataframe tbody tr th {\n",
       "        vertical-align: top;\n",
       "    }\n",
       "\n",
       "    .dataframe thead th {\n",
       "        text-align: right;\n",
       "    }\n",
       "</style>\n",
       "<table border=\"1\" class=\"dataframe\">\n",
       "  <thead>\n",
       "    <tr style=\"text-align: right;\">\n",
       "      <th></th>\n",
       "      <th>Unnamed: 0</th>\n",
       "      <th>Наименование</th>\n",
       "      <th>Тип жилья</th>\n",
       "      <th>Общая площадь</th>\n",
       "      <th>Жилая площадь</th>\n",
       "      <th>Площадь кухни</th>\n",
       "      <th>Высота потолков</th>\n",
       "      <th>Санузел</th>\n",
       "      <th>Ремонт</th>\n",
       "      <th>Год постройки</th>\n",
       "      <th>...</th>\n",
       "      <th>Аварийность</th>\n",
       "      <th>Этаж</th>\n",
       "      <th>Адрес</th>\n",
       "      <th>Цена</th>\n",
       "      <th>Балкон/лоджия</th>\n",
       "      <th>Вид из окон</th>\n",
       "      <th>Количество лифтов</th>\n",
       "      <th>Парковка</th>\n",
       "      <th>Газоснабжение</th>\n",
       "      <th>Строительная серия</th>\n",
       "    </tr>\n",
       "  </thead>\n",
       "  <tbody>\n",
       "    <tr>\n",
       "      <th>0</th>\n",
       "      <td>0</td>\n",
       "      <td>2-комн. квартира</td>\n",
       "      <td>Вторичка</td>\n",
       "      <td>60.0</td>\n",
       "      <td>28.0</td>\n",
       "      <td>18.0</td>\n",
       "      <td>2,8 м</td>\n",
       "      <td>1 раздельный</td>\n",
       "      <td>Евроремонт</td>\n",
       "      <td>2017.0</td>\n",
       "      <td>...</td>\n",
       "      <td>Нет</td>\n",
       "      <td>26 из 28</td>\n",
       "      <td>Нижегородская область, Нижний Новгород, р-н Со...</td>\n",
       "      <td>9 000 000 ₽</td>\n",
       "      <td>NaN</td>\n",
       "      <td>NaN</td>\n",
       "      <td>NaN</td>\n",
       "      <td>NaN</td>\n",
       "      <td>NaN</td>\n",
       "      <td>NaN</td>\n",
       "    </tr>\n",
       "    <tr>\n",
       "      <th>1</th>\n",
       "      <td>1</td>\n",
       "      <td>3-комн. квартира</td>\n",
       "      <td>Вторичка</td>\n",
       "      <td>104.0</td>\n",
       "      <td>49.7</td>\n",
       "      <td>22.1</td>\n",
       "      <td>2,7 м</td>\n",
       "      <td>2 совмещенных</td>\n",
       "      <td>Без ремонта</td>\n",
       "      <td>2023.0</td>\n",
       "      <td>...</td>\n",
       "      <td>Нет</td>\n",
       "      <td>6 из 9</td>\n",
       "      <td>Нижегородская область, Нижний Новгород, р-н Со...</td>\n",
       "      <td>18 800 000 ₽</td>\n",
       "      <td>1 лоджия</td>\n",
       "      <td>На улицу и двор</td>\n",
       "      <td>1 грузовой</td>\n",
       "      <td>Подземная</td>\n",
       "      <td>NaN</td>\n",
       "      <td>NaN</td>\n",
       "    </tr>\n",
       "    <tr>\n",
       "      <th>2</th>\n",
       "      <td>2</td>\n",
       "      <td>1-комн. квартира</td>\n",
       "      <td>Вторичка</td>\n",
       "      <td>50.0</td>\n",
       "      <td>16.7</td>\n",
       "      <td>11.7</td>\n",
       "      <td>2,7 м</td>\n",
       "      <td>1 совмещенный</td>\n",
       "      <td>Без ремонта</td>\n",
       "      <td>2023.0</td>\n",
       "      <td>...</td>\n",
       "      <td>Нет</td>\n",
       "      <td>6 из 10</td>\n",
       "      <td>Нижегородская область, Нижний Новгород, р-н Со...</td>\n",
       "      <td>8 150 000 ₽</td>\n",
       "      <td>1 лоджия</td>\n",
       "      <td>Во двор</td>\n",
       "      <td>1 пассажирский</td>\n",
       "      <td>Наземная</td>\n",
       "      <td>NaN</td>\n",
       "      <td>NaN</td>\n",
       "    </tr>\n",
       "    <tr>\n",
       "      <th>3</th>\n",
       "      <td>3</td>\n",
       "      <td>3-комн. квартира</td>\n",
       "      <td>Вторичка</td>\n",
       "      <td>56.0</td>\n",
       "      <td>39.0</td>\n",
       "      <td>7.0</td>\n",
       "      <td>2,5 м</td>\n",
       "      <td>1 раздельный</td>\n",
       "      <td>Евроремонт</td>\n",
       "      <td>1972.0</td>\n",
       "      <td>...</td>\n",
       "      <td>Нет</td>\n",
       "      <td>7 из 9</td>\n",
       "      <td>Нижегородская область, Нижний Новгород, р-н Ав...</td>\n",
       "      <td>6 300 000 ₽</td>\n",
       "      <td>1 лоджия</td>\n",
       "      <td>На улицу</td>\n",
       "      <td>1 пассажирский</td>\n",
       "      <td>Наземная</td>\n",
       "      <td>Центральное</td>\n",
       "      <td>NaN</td>\n",
       "    </tr>\n",
       "    <tr>\n",
       "      <th>4</th>\n",
       "      <td>4</td>\n",
       "      <td>3-комн. квартира</td>\n",
       "      <td>Вторичка</td>\n",
       "      <td>60.2</td>\n",
       "      <td>44.2</td>\n",
       "      <td>7.0</td>\n",
       "      <td>2,65 м</td>\n",
       "      <td>1 раздельный</td>\n",
       "      <td>Евроремонт</td>\n",
       "      <td>1917.0</td>\n",
       "      <td>...</td>\n",
       "      <td>Нет</td>\n",
       "      <td>1 из 9</td>\n",
       "      <td>Нижегородская область, Нижний Новгород, р-н Пр...</td>\n",
       "      <td>6 990 000 ₽</td>\n",
       "      <td>1 лоджия</td>\n",
       "      <td>На улицу и двор</td>\n",
       "      <td>1 пассажирский</td>\n",
       "      <td>NaN</td>\n",
       "      <td>Центральное</td>\n",
       "      <td>NaN</td>\n",
       "    </tr>\n",
       "  </tbody>\n",
       "</table>\n",
       "<p>5 rows × 25 columns</p>\n",
       "</div>"
      ],
      "text/plain": [
       "   Unnamed: 0      Наименование Тип жилья  Общая площадь  Жилая площадь  \\\n",
       "0           0  2-комн. квартира  Вторичка           60.0           28.0   \n",
       "1           1  3-комн. квартира  Вторичка          104.0           49.7   \n",
       "2           2  1-комн. квартира  Вторичка           50.0           16.7   \n",
       "3           3  3-комн. квартира  Вторичка           56.0           39.0   \n",
       "4           4  3-комн. квартира  Вторичка           60.2           44.2   \n",
       "\n",
       "   Площадь кухни Высота потолков        Санузел       Ремонт  Год постройки  \\\n",
       "0           18.0           2,8 м   1 раздельный   Евроремонт         2017.0   \n",
       "1           22.1           2,7 м  2 совмещенных  Без ремонта         2023.0   \n",
       "2           11.7           2,7 м  1 совмещенный  Без ремонта         2023.0   \n",
       "3            7.0           2,5 м   1 раздельный   Евроремонт         1972.0   \n",
       "4            7.0          2,65 м   1 раздельный   Евроремонт         1917.0   \n",
       "\n",
       "   ... Аварийность      Этаж  \\\n",
       "0  ...         Нет  26 из 28   \n",
       "1  ...         Нет    6 из 9   \n",
       "2  ...         Нет   6 из 10   \n",
       "3  ...         Нет    7 из 9   \n",
       "4  ...         Нет    1 из 9   \n",
       "\n",
       "                                               Адрес          Цена  \\\n",
       "0  Нижегородская область, Нижний Новгород, р-н Со...   9 000 000 ₽   \n",
       "1  Нижегородская область, Нижний Новгород, р-н Со...  18 800 000 ₽   \n",
       "2  Нижегородская область, Нижний Новгород, р-н Со...   8 150 000 ₽   \n",
       "3  Нижегородская область, Нижний Новгород, р-н Ав...   6 300 000 ₽   \n",
       "4  Нижегородская область, Нижний Новгород, р-н Пр...   6 990 000 ₽   \n",
       "\n",
       "  Балкон/лоджия      Вид из окон Количество лифтов   Парковка Газоснабжение  \\\n",
       "0           NaN              NaN               NaN        NaN           NaN   \n",
       "1      1 лоджия  На улицу и двор        1 грузовой  Подземная           NaN   \n",
       "2      1 лоджия          Во двор    1 пассажирский   Наземная           NaN   \n",
       "3      1 лоджия         На улицу    1 пассажирский   Наземная   Центральное   \n",
       "4      1 лоджия  На улицу и двор    1 пассажирский        NaN   Центральное   \n",
       "\n",
       "  Строительная серия  \n",
       "0                NaN  \n",
       "1                NaN  \n",
       "2                NaN  \n",
       "3                NaN  \n",
       "4                NaN  \n",
       "\n",
       "[5 rows x 25 columns]"
      ]
     },
     "execution_count": 21,
     "metadata": {},
     "output_type": "execute_result"
    }
   ],
   "source": [
    "data.head()"
   ]
  },
  {
   "cell_type": "code",
   "execution_count": 12,
   "id": "e43d130f",
   "metadata": {
    "id": "e43d130f"
   },
   "outputs": [
    {
     "name": "stdout",
     "output_type": "stream",
     "text": [
      "<class 'pandas.core.frame.DataFrame'>\n",
      "RangeIndex: 1508 entries, 0 to 1507\n",
      "Data columns (total 25 columns):\n",
      " #   Column              Non-Null Count  Dtype  \n",
      "---  ------              --------------  -----  \n",
      " 0   Unnamed: 0          1508 non-null   int64  \n",
      " 1   Наименование        1508 non-null   object \n",
      " 2   Тип жилья           1508 non-null   object \n",
      " 3   Общая площадь       1508 non-null   float64\n",
      " 4   Жилая площадь       1459 non-null   float64\n",
      " 5   Площадь кухни       1498 non-null   float64\n",
      " 6   Высота потолков     487 non-null    object \n",
      " 7   Санузел             1320 non-null   object \n",
      " 8   Ремонт              1366 non-null   object \n",
      " 9   Год постройки       1464 non-null   float64\n",
      " 10  Мусоропровод        427 non-null    object \n",
      " 11  Тип дома            1231 non-null   object \n",
      " 12  Тип перекрытий      1449 non-null   object \n",
      " 13  Подъезды            1424 non-null   float64\n",
      " 14  Отопление           1449 non-null   object \n",
      " 15  Аварийность         1449 non-null   object \n",
      " 16  Этаж                1508 non-null   object \n",
      " 17  Адрес               1508 non-null   object \n",
      " 18  Цена                1508 non-null   object \n",
      " 19  Балкон/лоджия       905 non-null    object \n",
      " 20  Вид из окон         485 non-null    object \n",
      " 21  Количество лифтов   673 non-null    object \n",
      " 22  Парковка            190 non-null    object \n",
      " 23  Газоснабжение       1141 non-null   object \n",
      " 24  Строительная серия  332 non-null    object \n",
      "dtypes: float64(5), int64(1), object(19)\n",
      "memory usage: 294.7+ KB\n"
     ]
    }
   ],
   "source": [
    "data.info()"
   ]
  },
  {
   "cell_type": "code",
   "execution_count": null,
   "id": "8996e2f0",
   "metadata": {
    "id": "8996e2f0"
   },
   "outputs": [],
   "source": [
    "pd.DataFrame(round(data.isna().mean()*100,1)).style.background_gradient('coolwarm')"
   ]
  },
  {
   "cell_type": "code",
   "execution_count": null,
   "id": "16e0de2d",
   "metadata": {
    "id": "16e0de2d"
   },
   "outputs": [],
   "source": [
    "data = data.drop([\n",
    "    'Unnamed: 0',\n",
    "    'Мусоропровод',\n",
    "    'Вид из окон',\n",
    "    'Парковка',\n",
    "    'Строительная серия',\n",
    "    'Высота потолков'\n",
    "], axis=1)"
   ]
  },
  {
   "cell_type": "code",
   "execution_count": null,
   "id": "3ec534cc",
   "metadata": {
    "id": "3ec534cc"
   },
   "outputs": [],
   "source": [
    "# Для быстрого перехода к обучению исключин вначале столбцы с большими пропусками\n",
    "# data = data.drop([\n",
    "#    'Тип дома'\n",
    "#], axis=1)"
   ]
  },
  {
   "cell_type": "code",
   "execution_count": null,
   "id": "9b2c7064",
   "metadata": {
    "id": "9b2c7064"
   },
   "outputs": [],
   "source": [
    "data.duplicated().sum()"
   ]
  },
  {
   "cell_type": "code",
   "execution_count": null,
   "id": "fa08ae80",
   "metadata": {
    "id": "fa08ae80"
   },
   "outputs": [],
   "source": [
    "len(data)"
   ]
  },
  {
   "cell_type": "markdown",
   "id": "5c067824",
   "metadata": {
    "id": "5c067824"
   },
   "source": [
    "Выводы по обзору данных:\n",
    "- Требуется предобработка;\n",
    "- Необходимо переименование столбцов;\n",
    "- Требуется извлечение признаков из данных;\n",
    "- Требуется изменение типов данных."
   ]
  },
  {
   "cell_type": "markdown",
   "id": "c3d507fe",
   "metadata": {
    "id": "c3d507fe"
   },
   "source": [
    "## Предобработка данных"
   ]
  },
  {
   "cell_type": "markdown",
   "id": "gskax4k_qNqm",
   "metadata": {
    "id": "gskax4k_qNqm"
   },
   "source": [
    "Переименуем столбцы"
   ]
  },
  {
   "cell_type": "code",
   "execution_count": null,
   "id": "46537435",
   "metadata": {
    "id": "46537435"
   },
   "outputs": [],
   "source": [
    "data = (data.rename(\n",
    "    columns={\n",
    "        'Наименование': 'name',\n",
    "        'Тип жилья': 'type_of_housing',\n",
    "        'Общая площадь': 'total_area',\n",
    "        'Жилая площадь': 'living_area',\n",
    "        'Площадь кухни': 'kitchen_area',\n",
    "        'Высота потолков': 'ceiling_height',\n",
    "        'Этаж': 'floor',\n",
    "        'Санузел': 'bathroom',\n",
    "        'Балкон/лоджия': 'balcony/logie',\n",
    "        'Вид из окон': 'view_from_the_window',\n",
    "        'Ремонт': 'renovation',\n",
    "        'Год постройки': 'year',\n",
    "        'Строительная серия': 'construction_series',\n",
    "        'Мусоропровод': 'garbage_chute',\n",
    "        'Количество лифтов': 'type_of_elevators',\n",
    "        'Тип перекрытий': 'floor_type',\n",
    "        'Парковка': 'parking',\n",
    "        'Подъезды': 'entrances',\n",
    "        'Отопление': 'heating',\n",
    "        'Аварийность': 'accident_rate',\n",
    "        'Газоснабжение': 'gas_supply',\n",
    "        'Цена': 'price',\n",
    "        'Тип дома': 'type_of_building',\n",
    "        'Адрес': 'address'\n",
    "    })\n",
    ")"
   ]
  },
  {
   "cell_type": "markdown",
   "id": "920a74a7",
   "metadata": {
    "id": "920a74a7"
   },
   "source": [
    "### Обработка поля наименование жилья"
   ]
  },
  {
   "cell_type": "code",
   "execution_count": null,
   "id": "43f84d0b",
   "metadata": {
    "id": "43f84d0b"
   },
   "outputs": [],
   "source": [
    "data['name'].unique()"
   ]
  },
  {
   "cell_type": "code",
   "execution_count": null,
   "id": "f5651990",
   "metadata": {
    "id": "f5651990"
   },
   "outputs": [],
   "source": [
    "data['name'].value_counts()"
   ]
  },
  {
   "cell_type": "code",
   "execution_count": null,
   "id": "290b6677",
   "metadata": {
    "id": "290b6677"
   },
   "outputs": [],
   "source": [
    "def get_rooms(input_string):\n",
    "    for rooms in range(1, 5):\n",
    "        if str(rooms) in input_string:\n",
    "            return rooms\n",
    "    else:\n",
    "        if 'студия' in input_string.lower():\n",
    "            return 1\n",
    "    return None"
   ]
  },
  {
   "cell_type": "code",
   "execution_count": null,
   "id": "d7b0d41c",
   "metadata": {
    "id": "d7b0d41c"
   },
   "outputs": [],
   "source": [
    "print(get_rooms('1-комн. квартира'))\n",
    "print(get_rooms('5-комн. квартира'))\n",
    "print(get_rooms('0-комн. квартира'))\n",
    "print(get_rooms('4-комн. квартира'))"
   ]
  },
  {
   "cell_type": "code",
   "execution_count": null,
   "id": "642ed8ba",
   "metadata": {
    "id": "642ed8ba"
   },
   "outputs": [],
   "source": [
    "def is_apartments(input_string):\n",
    "    if 'апартаменты' in input_string.lower():\n",
    "        return 1\n",
    "    else:\n",
    "        return 0"
   ]
  },
  {
   "cell_type": "code",
   "execution_count": null,
   "id": "9a7e1202",
   "metadata": {
    "id": "9a7e1202"
   },
   "outputs": [],
   "source": [
    "print(is_apartments('3-комн. квартира'))\n",
    "print(is_apartments('Студия'))\n",
    "print(is_apartments('1-комн. апартаменты'))\n",
    "print(is_apartments('Апартаменты-студия'))"
   ]
  },
  {
   "cell_type": "code",
   "execution_count": null,
   "id": "cfeba92d",
   "metadata": {
    "id": "cfeba92d"
   },
   "outputs": [],
   "source": [
    "def is_studio(input_string):\n",
    "    if 'студия' in input_string.lower():\n",
    "        return 1\n",
    "    else:\n",
    "        return 0"
   ]
  },
  {
   "cell_type": "code",
   "execution_count": null,
   "id": "fe15b6f6",
   "metadata": {
    "id": "fe15b6f6"
   },
   "outputs": [],
   "source": [
    "print(is_studio('3-комн. квартира'))\n",
    "print(is_studio('Студия'))\n",
    "print(is_studio('1-комн. апартаменты'))\n",
    "print(is_studio('Апартаменты-студия'))"
   ]
  },
  {
   "cell_type": "code",
   "execution_count": null,
   "id": "de62f44e",
   "metadata": {
    "id": "de62f44e"
   },
   "outputs": [],
   "source": [
    "data['rooms'] = data['name'].apply(get_rooms)"
   ]
  },
  {
   "cell_type": "code",
   "execution_count": null,
   "id": "fade8379",
   "metadata": {
    "id": "fade8379"
   },
   "outputs": [],
   "source": [
    "data['rooms'].unique()"
   ]
  },
  {
   "cell_type": "code",
   "execution_count": null,
   "id": "0538f160",
   "metadata": {
    "id": "0538f160"
   },
   "outputs": [],
   "source": [
    "data['apartments'] = data['name'].apply(is_apartments)"
   ]
  },
  {
   "cell_type": "code",
   "execution_count": null,
   "id": "6c2c97b1",
   "metadata": {
    "id": "6c2c97b1"
   },
   "outputs": [],
   "source": [
    "data['apartments'].unique()"
   ]
  },
  {
   "cell_type": "code",
   "execution_count": null,
   "id": "f94c0c4a",
   "metadata": {
    "id": "f94c0c4a"
   },
   "outputs": [],
   "source": [
    "data['studio'] = data['name'].apply(is_studio)"
   ]
  },
  {
   "cell_type": "code",
   "execution_count": null,
   "id": "5fb55af4",
   "metadata": {
    "id": "5fb55af4"
   },
   "outputs": [],
   "source": [
    "data['studio'].unique()"
   ]
  },
  {
   "cell_type": "code",
   "execution_count": null,
   "id": "01530cec",
   "metadata": {
    "id": "01530cec"
   },
   "outputs": [],
   "source": [
    "data = data.drop('name', axis=1)"
   ]
  },
  {
   "cell_type": "code",
   "execution_count": null,
   "id": "89ae7a47",
   "metadata": {
    "id": "89ae7a47"
   },
   "outputs": [],
   "source": [
    "data = data.dropna(subset=['rooms'])"
   ]
  },
  {
   "cell_type": "code",
   "execution_count": null,
   "id": "ee60302b",
   "metadata": {
    "id": "ee60302b"
   },
   "outputs": [],
   "source": [
    "data['rooms'] = data['rooms'].astype('int')"
   ]
  },
  {
   "cell_type": "markdown",
   "id": "1c062087",
   "metadata": {
    "id": "1c062087"
   },
   "source": [
    "### Обработка поля тип жилья"
   ]
  },
  {
   "cell_type": "code",
   "execution_count": null,
   "id": "d878711c",
   "metadata": {
    "id": "d878711c"
   },
   "outputs": [],
   "source": [
    "data['type_of_housing'].value_counts()"
   ]
  },
  {
   "cell_type": "code",
   "execution_count": null,
   "id": "a55b5c1b",
   "metadata": {
    "id": "a55b5c1b"
   },
   "outputs": [],
   "source": [
    "data = data.drop('type_of_housing', axis=1)"
   ]
  },
  {
   "cell_type": "code",
   "execution_count": null,
   "id": "64047240",
   "metadata": {
    "id": "64047240"
   },
   "outputs": [],
   "source": [
    "data['total_area'].min()"
   ]
  },
  {
   "cell_type": "code",
   "execution_count": null,
   "id": "4ce558e8",
   "metadata": {
    "id": "4ce558e8"
   },
   "outputs": [],
   "source": [
    "data['total_area'].max()"
   ]
  },
  {
   "cell_type": "code",
   "execution_count": null,
   "id": "f9bfd40c",
   "metadata": {
    "id": "f9bfd40c"
   },
   "outputs": [],
   "source": [
    "data[data['living_area'].isna()].sample(2)"
   ]
  },
  {
   "cell_type": "code",
   "execution_count": null,
   "id": "4c003189",
   "metadata": {
    "id": "4c003189"
   },
   "outputs": [],
   "source": [
    "list_rooms = data.loc[data['living_area'].isna(), 'rooms'].unique()\n",
    "for rooms in list_rooms:\n",
    "    coeff = (\n",
    "        data.loc[data['rooms'] == rooms, 'living_area'].mean() /\n",
    "        data.loc[data['rooms'] == rooms, 'total_area'].mean()\n",
    "    )\n",
    "    data.loc[(data['rooms'] == rooms) & (data['living_area'].isna()), 'living_area'] =\\\n",
    "    round(data.loc[(data['rooms'] == rooms) & (data['living_area'].isna()), 'total_area'] * coeff, 1)"
   ]
  },
  {
   "cell_type": "code",
   "execution_count": null,
   "id": "a9a0dc3d",
   "metadata": {
    "id": "a9a0dc3d"
   },
   "outputs": [],
   "source": [
    "data['living_area'].min()"
   ]
  },
  {
   "cell_type": "code",
   "execution_count": null,
   "id": "5d257d64",
   "metadata": {
    "id": "5d257d64"
   },
   "outputs": [],
   "source": [
    "data['living_area'].max()"
   ]
  },
  {
   "cell_type": "code",
   "execution_count": null,
   "id": "3f4137c9",
   "metadata": {
    "id": "3f4137c9"
   },
   "outputs": [],
   "source": [
    "data[data['kitchen_area'].isna()].sample(2)"
   ]
  },
  {
   "cell_type": "code",
   "execution_count": null,
   "id": "23796038",
   "metadata": {
    "id": "23796038"
   },
   "outputs": [],
   "source": [
    "list_rooms = data.loc[data['kitchen_area'].isna(), 'rooms'].unique()\n",
    "for rooms in list_rooms:\n",
    "    coeff = (\n",
    "        data.loc[data['rooms'] == rooms, 'kitchen_area'].mean() /\n",
    "        data.loc[data['rooms'] == rooms, 'total_area'].mean()\n",
    "    )\n",
    "    data.loc[(data['rooms'] == rooms) & (data['kitchen_area'].isna()), 'kitchen_area'] =\\\n",
    "    round(data.loc[(data['rooms'] == rooms) & (data['kitchen_area'].isna()), 'total_area'] * coeff, 1)"
   ]
  },
  {
   "cell_type": "code",
   "execution_count": null,
   "id": "59bdc99d",
   "metadata": {
    "id": "59bdc99d"
   },
   "outputs": [],
   "source": [
    "data['kitchen_area'].min()"
   ]
  },
  {
   "cell_type": "code",
   "execution_count": null,
   "id": "b3d3b403",
   "metadata": {
    "id": "b3d3b403"
   },
   "outputs": [],
   "source": [
    "data['kitchen_area'].max()"
   ]
  },
  {
   "cell_type": "code",
   "execution_count": null,
   "id": "838ce1c7",
   "metadata": {
    "id": "838ce1c7"
   },
   "outputs": [],
   "source": [
    "# data['ceiling_height'].unique()"
   ]
  },
  {
   "cell_type": "code",
   "execution_count": null,
   "id": "a3f28117",
   "metadata": {
    "id": "a3f28117"
   },
   "outputs": [],
   "source": [
    "# data['ceiling_height'] = data['ceiling_height'].str.extract(r'(\\d\\,\\d|\\d+)')\n",
    "# data['ceiling_height'] = data['ceiling_height'].str.replace(',', '.')"
   ]
  },
  {
   "cell_type": "code",
   "execution_count": null,
   "id": "c9386ced",
   "metadata": {
    "id": "c9386ced"
   },
   "outputs": [],
   "source": [
    "# data['ceiling_height'].unique()"
   ]
  },
  {
   "cell_type": "code",
   "execution_count": null,
   "id": "f5e44824",
   "metadata": {
    "id": "f5e44824"
   },
   "outputs": [],
   "source": [
    "# data['ceiling_height'] = pd.to_numeric(data['ceiling_height'])"
   ]
  },
  {
   "cell_type": "code",
   "execution_count": null,
   "id": "4faf60f9",
   "metadata": {
    "id": "4faf60f9"
   },
   "outputs": [],
   "source": [
    "# data['ceiling_height'].min()"
   ]
  },
  {
   "cell_type": "code",
   "execution_count": null,
   "id": "c2900930",
   "metadata": {
    "id": "c2900930"
   },
   "outputs": [],
   "source": [
    "# data['ceiling_height'].max()"
   ]
  },
  {
   "cell_type": "code",
   "execution_count": null,
   "id": "de8edf26",
   "metadata": {
    "id": "de8edf26"
   },
   "outputs": [],
   "source": [
    "data['bathroom'] = data['bathroom'].fillna(value='unknow')"
   ]
  },
  {
   "cell_type": "code",
   "execution_count": null,
   "id": "cf3756f4",
   "metadata": {
    "id": "cf3756f4"
   },
   "outputs": [],
   "source": [
    "data['bathroom'].value_counts()"
   ]
  },
  {
   "cell_type": "code",
   "execution_count": null,
   "id": "c4859c88",
   "metadata": {
    "id": "c4859c88"
   },
   "outputs": [],
   "source": [
    "def extract_number_of_bathrooms(input_string):\n",
    "    string_list = re.findall(r'\\d+', input_string)\n",
    "    int_list = list(map(int, string_list))\n",
    "    number_of_bathrooms = sum(int_list)\n",
    "    if number_of_bathrooms == 0:\n",
    "        return 1\n",
    "\n",
    "    return number_of_bathrooms"
   ]
  },
  {
   "cell_type": "code",
   "execution_count": null,
   "id": "b2e1f651",
   "metadata": {
    "id": "b2e1f651"
   },
   "outputs": [],
   "source": [
    "extract_number_of_bathrooms(' unknow')"
   ]
  },
  {
   "cell_type": "code",
   "execution_count": null,
   "id": "83606f9c",
   "metadata": {
    "id": "83606f9c"
   },
   "outputs": [],
   "source": [
    "extract_number_of_bathrooms(' 5 unknow, 1')"
   ]
  },
  {
   "cell_type": "code",
   "execution_count": null,
   "id": "481c7344",
   "metadata": {
    "id": "481c7344"
   },
   "outputs": [],
   "source": [
    "data['number_of_bathrooms'] = data['bathroom'].apply(extract_number_of_bathrooms)"
   ]
  },
  {
   "cell_type": "code",
   "execution_count": null,
   "id": "c564ed24",
   "metadata": {
    "id": "c564ed24"
   },
   "outputs": [],
   "source": [
    "data = data.drop('bathroom', axis=1)"
   ]
  },
  {
   "cell_type": "code",
   "execution_count": null,
   "id": "cb5f7c55",
   "metadata": {
    "id": "cb5f7c55"
   },
   "outputs": [],
   "source": [
    "data['gas_supply'].unique()"
   ]
  },
  {
   "cell_type": "code",
   "execution_count": null,
   "id": "822a4d86",
   "metadata": {
    "id": "822a4d86"
   },
   "outputs": [],
   "source": [
    "data['gas_supply'] = data['gas_supply'].fillna(value='Нет информации')"
   ]
  },
  {
   "cell_type": "code",
   "execution_count": null,
   "id": "29925391",
   "metadata": {
    "id": "29925391"
   },
   "outputs": [],
   "source": [
    "data['gas_supply'].value_counts()"
   ]
  },
  {
   "cell_type": "code",
   "execution_count": null,
   "id": "5b5043a6",
   "metadata": {
    "id": "5b5043a6"
   },
   "outputs": [],
   "source": [
    "data.loc[data['gas_supply'] == 'Центральное', 'year'].max()"
   ]
  },
  {
   "cell_type": "markdown",
   "id": "kafmMeBWry-q",
   "metadata": {
    "id": "kafmMeBWry-q"
   },
   "source": [
    "Выведем данные по недвижимости имеющие автономное газоснабжение"
   ]
  },
  {
   "cell_type": "code",
   "execution_count": null,
   "id": "f9a24299",
   "metadata": {
    "id": "f9a24299"
   },
   "outputs": [],
   "source": [
    "data[data['gas_supply'] == 'Автономное']"
   ]
  },
  {
   "cell_type": "markdown",
   "id": "_IMovQa1sCHA",
   "metadata": {
    "id": "_IMovQa1sCHA"
   },
   "source": [
    "Рассмотрению подлежит недвижимость - квартиры, имеющие централизированное газоснабжение. Поэтому исключим недвижимость с автономным газоснабжением"
   ]
  },
  {
   "cell_type": "code",
   "execution_count": null,
   "id": "17237480",
   "metadata": {
    "id": "17237480"
   },
   "outputs": [],
   "source": [
    "data = data[data['gas_supply'] != 'Автономное']"
   ]
  },
  {
   "cell_type": "code",
   "execution_count": null,
   "id": "83b2456d",
   "metadata": {
    "id": "83b2456d"
   },
   "outputs": [],
   "source": [
    "data[(data['gas_supply'] == 'Центральное') & (data['year'] == 2023)]"
   ]
  },
  {
   "cell_type": "markdown",
   "id": "c90f86e0",
   "metadata": {
    "id": "c90f86e0"
   },
   "source": [
    "### Обработка поля ремонт"
   ]
  },
  {
   "cell_type": "code",
   "execution_count": null,
   "id": "c899dde4",
   "metadata": {
    "id": "c899dde4"
   },
   "outputs": [],
   "source": [
    "data['renovation'].unique()"
   ]
  },
  {
   "cell_type": "code",
   "execution_count": null,
   "id": "656a18ce",
   "metadata": {
    "id": "656a18ce"
   },
   "outputs": [],
   "source": [
    "data['renovation'] = data['renovation'].fillna(value='unknow')"
   ]
  },
  {
   "cell_type": "code",
   "execution_count": null,
   "id": "28b9cd08",
   "metadata": {
    "id": "28b9cd08"
   },
   "outputs": [],
   "source": [
    "data['renovation'].value_counts()"
   ]
  },
  {
   "cell_type": "markdown",
   "id": "68ec70fa",
   "metadata": {
    "id": "68ec70fa"
   },
   "source": [
    "### Обработка поля год постройки"
   ]
  },
  {
   "cell_type": "code",
   "execution_count": null,
   "id": "a05b868d",
   "metadata": {
    "id": "a05b868d"
   },
   "outputs": [],
   "source": [
    "data['year'].unique()"
   ]
  },
  {
   "cell_type": "code",
   "execution_count": null,
   "id": "979a7799",
   "metadata": {
    "id": "979a7799"
   },
   "outputs": [],
   "source": [
    "data['year'].isna().sum()"
   ]
  },
  {
   "cell_type": "markdown",
   "id": "ClcX5bw7jCBo",
   "metadata": {
    "id": "ClcX5bw7jCBo"
   },
   "source": [
    "Год постройки это категориальный параметр. Поэтому из года постройки лучше получить его числовой парамтер - возраст."
   ]
  },
  {
   "cell_type": "markdown",
   "id": "2iXYdxBCtjRO",
   "metadata": {
    "id": "2iXYdxBCtjRO"
   },
   "source": [
    "Исключаем квартиры с неизвестным годом постройки."
   ]
  },
  {
   "cell_type": "code",
   "execution_count": null,
   "id": "c2c03bcc",
   "metadata": {
    "id": "c2c03bcc"
   },
   "outputs": [],
   "source": [
    "data = data.dropna(subset=['year'])"
   ]
  },
  {
   "cell_type": "code",
   "execution_count": null,
   "id": "acc8c3b8",
   "metadata": {
    "id": "acc8c3b8"
   },
   "outputs": [],
   "source": [
    "data.loc[:, 'year'] = pd.to_numeric(data['year'])\n",
    "data.loc[:, 'year'] = data['year'].astype('int')"
   ]
  },
  {
   "cell_type": "code",
   "execution_count": null,
   "id": "JZ3VTvQajoI4",
   "metadata": {
    "id": "JZ3VTvQajoI4"
   },
   "outputs": [],
   "source": [
    "current_year = datetime.now().year\n",
    "data['house_age'] = current_year - data['year']"
   ]
  },
  {
   "cell_type": "code",
   "execution_count": null,
   "id": "yDvDydjOlC7D",
   "metadata": {
    "id": "yDvDydjOlC7D"
   },
   "outputs": [],
   "source": [
    "data = data.drop('year', axis=1)"
   ]
  },
  {
   "cell_type": "code",
   "execution_count": null,
   "id": "2d79ad1b",
   "metadata": {
    "id": "2d79ad1b"
   },
   "outputs": [],
   "source": [
    "data['balcony/logie'].unique()"
   ]
  },
  {
   "cell_type": "code",
   "execution_count": null,
   "id": "03ee7886",
   "metadata": {
    "id": "03ee7886"
   },
   "outputs": [],
   "source": [
    "data['balcony/logie'] = data['balcony/logie'].fillna(value='unknow')"
   ]
  },
  {
   "cell_type": "code",
   "execution_count": null,
   "id": "47f6f05b",
   "metadata": {
    "id": "47f6f05b"
   },
   "outputs": [],
   "source": [
    "data['balcony/logie'].value_counts()"
   ]
  },
  {
   "cell_type": "code",
   "execution_count": null,
   "id": "d858eaf6",
   "metadata": {
    "id": "d858eaf6"
   },
   "outputs": [],
   "source": [
    "def is_balcony(input_string):\n",
    "    if 'балк' in input_string.lower():\n",
    "        return 1\n",
    "    else:\n",
    "        return 0"
   ]
  },
  {
   "cell_type": "code",
   "execution_count": null,
   "id": "4c8d1609",
   "metadata": {
    "id": "4c8d1609"
   },
   "outputs": [],
   "source": [
    "def is_logie(input_string):\n",
    "    if 'лодж' in input_string.lower():\n",
    "        return 1\n",
    "    else:\n",
    "        return 0"
   ]
  },
  {
   "cell_type": "code",
   "execution_count": null,
   "id": "c5ec5cae",
   "metadata": {
    "id": "c5ec5cae"
   },
   "outputs": [],
   "source": [
    "data['balcony'] = data['balcony/logie'].apply(is_balcony)"
   ]
  },
  {
   "cell_type": "code",
   "execution_count": null,
   "id": "df92e9b5",
   "metadata": {
    "id": "df92e9b5"
   },
   "outputs": [],
   "source": [
    "data['logie'] = data['balcony/logie'].apply(is_logie)"
   ]
  },
  {
   "cell_type": "code",
   "execution_count": null,
   "id": "c19e5ff3",
   "metadata": {
    "id": "c19e5ff3"
   },
   "outputs": [],
   "source": [
    "data = data.drop('balcony/logie', axis=1)"
   ]
  },
  {
   "cell_type": "code",
   "execution_count": null,
   "id": "670c0de3",
   "metadata": {
    "id": "670c0de3"
   },
   "outputs": [],
   "source": [
    "# data['view_from_the_window'].unique()"
   ]
  },
  {
   "cell_type": "code",
   "execution_count": null,
   "id": "00923971",
   "metadata": {
    "id": "00923971"
   },
   "outputs": [],
   "source": [
    "# data['view_from_the_window'] = data['view_from_the_window'].fillna(value='unknow')"
   ]
  },
  {
   "cell_type": "code",
   "execution_count": null,
   "id": "660bd9c4",
   "metadata": {
    "id": "660bd9c4"
   },
   "outputs": [],
   "source": [
    "# data['view_from_the_window'].value_counts()"
   ]
  },
  {
   "cell_type": "code",
   "execution_count": null,
   "id": "326d05ca",
   "metadata": {
    "id": "326d05ca"
   },
   "outputs": [],
   "source": [
    "data['entrances'].unique()"
   ]
  },
  {
   "cell_type": "code",
   "execution_count": null,
   "id": "951272ff",
   "metadata": {
    "id": "951272ff"
   },
   "outputs": [],
   "source": [
    "data['entrances'] = data['entrances'].fillna(value='unknow')"
   ]
  },
  {
   "cell_type": "code",
   "execution_count": null,
   "id": "a1c9b0e3",
   "metadata": {
    "id": "a1c9b0e3"
   },
   "outputs": [],
   "source": [
    "data['entrances'].value_counts()"
   ]
  },
  {
   "cell_type": "code",
   "execution_count": null,
   "id": "82ff5604",
   "metadata": {
    "id": "82ff5604"
   },
   "outputs": [],
   "source": [
    "data['heating'].unique()"
   ]
  },
  {
   "cell_type": "code",
   "execution_count": null,
   "id": "34c84f8c",
   "metadata": {
    "id": "34c84f8c"
   },
   "outputs": [],
   "source": [
    "data['heating'] = data['heating'].fillna(value='Нет информации')"
   ]
  },
  {
   "cell_type": "code",
   "execution_count": null,
   "id": "55a1496e",
   "metadata": {
    "id": "55a1496e"
   },
   "outputs": [],
   "source": [
    "data['heating'].value_counts()"
   ]
  },
  {
   "cell_type": "code",
   "execution_count": null,
   "id": "09a8b4e7",
   "metadata": {
    "id": "09a8b4e7"
   },
   "outputs": [],
   "source": [
    "data['accident_rate'].unique()"
   ]
  },
  {
   "cell_type": "code",
   "execution_count": null,
   "id": "d287542b",
   "metadata": {
    "id": "d287542b"
   },
   "outputs": [],
   "source": [
    "data['accident_rate'] = data['accident_rate'].fillna(value='Нет информации')"
   ]
  },
  {
   "cell_type": "code",
   "execution_count": null,
   "id": "19c3ab25",
   "metadata": {
    "id": "19c3ab25"
   },
   "outputs": [],
   "source": [
    "data['accident_rate'].value_counts()"
   ]
  },
  {
   "cell_type": "code",
   "execution_count": null,
   "id": "53d733c7",
   "metadata": {
    "id": "53d733c7"
   },
   "outputs": [],
   "source": [
    "data = data[data['accident_rate'] != 'Да']"
   ]
  },
  {
   "cell_type": "code",
   "execution_count": null,
   "id": "ff1c151d",
   "metadata": {
    "id": "ff1c151d"
   },
   "outputs": [],
   "source": [
    "data['floor'].sample(2)"
   ]
  },
  {
   "cell_type": "code",
   "execution_count": null,
   "id": "981e69ff",
   "metadata": {
    "id": "981e69ff"
   },
   "outputs": [],
   "source": [
    "data.loc[:, 'floors_total'] = data['floor'].apply(lambda x: re.findall(r'(\\d+)', x)[1])"
   ]
  },
  {
   "cell_type": "code",
   "execution_count": null,
   "id": "668a70ce",
   "metadata": {
    "id": "668a70ce"
   },
   "outputs": [],
   "source": [
    "data['floors_total'].info()"
   ]
  },
  {
   "cell_type": "code",
   "execution_count": null,
   "id": "4402d54a",
   "metadata": {
    "id": "4402d54a"
   },
   "outputs": [],
   "source": [
    "data['floors_total'] = pd.to_numeric(data['floors_total'])"
   ]
  },
  {
   "cell_type": "code",
   "execution_count": null,
   "id": "354072dc",
   "metadata": {
    "id": "354072dc"
   },
   "outputs": [],
   "source": [
    "data['floors_total'].min()"
   ]
  },
  {
   "cell_type": "code",
   "execution_count": null,
   "id": "f600433f",
   "metadata": {
    "id": "f600433f"
   },
   "outputs": [],
   "source": [
    "data['floors_total'].value_counts()"
   ]
  },
  {
   "cell_type": "code",
   "execution_count": null,
   "id": "8d974b33",
   "metadata": {
    "id": "8d974b33"
   },
   "outputs": [],
   "source": [
    "data[data['floors_total'] < 5].sample(5)"
   ]
  },
  {
   "cell_type": "code",
   "execution_count": null,
   "id": "0ce1e1b6",
   "metadata": {
    "id": "0ce1e1b6"
   },
   "outputs": [],
   "source": [
    "data = data[data['floors_total'] >= 5 ]"
   ]
  },
  {
   "cell_type": "code",
   "execution_count": null,
   "id": "d810e56a",
   "metadata": {
    "id": "d810e56a"
   },
   "outputs": [],
   "source": [
    "data['floors_total'].max()"
   ]
  },
  {
   "cell_type": "code",
   "execution_count": null,
   "id": "ffb46a1a",
   "metadata": {
    "id": "ffb46a1a"
   },
   "outputs": [],
   "source": [
    "data.loc[:, 'floor'] = data['floor'].apply(lambda x: re.findall(r'(\\d+)', x)[0])"
   ]
  },
  {
   "cell_type": "code",
   "execution_count": null,
   "id": "da19fc38",
   "metadata": {
    "id": "da19fc38"
   },
   "outputs": [],
   "source": [
    "data['floor'].info()"
   ]
  },
  {
   "cell_type": "code",
   "execution_count": null,
   "id": "bbde3b54",
   "metadata": {
    "id": "bbde3b54"
   },
   "outputs": [],
   "source": [
    "data['floor'] = pd.to_numeric(data['floor'])"
   ]
  },
  {
   "cell_type": "code",
   "execution_count": null,
   "id": "d6d0360a",
   "metadata": {
    "id": "d6d0360a"
   },
   "outputs": [],
   "source": [
    "data['floor'].value_counts()"
   ]
  },
  {
   "cell_type": "code",
   "execution_count": null,
   "id": "013c8062",
   "metadata": {
    "id": "013c8062"
   },
   "outputs": [],
   "source": [
    "data.loc[data['floors_total'] < data['floor'], 'floor'].count()"
   ]
  },
  {
   "cell_type": "code",
   "execution_count": null,
   "id": "233b4467",
   "metadata": {
    "id": "233b4467"
   },
   "outputs": [],
   "source": [
    "data['first_floor'] = data['floor'].apply(lambda x: 1 if (x == 1) else 0)\n",
    "data['last_floor'] = (data['floor'] == data['floors_total']).apply(lambda x: 1 if x else 0)"
   ]
  },
  {
   "cell_type": "code",
   "execution_count": null,
   "id": "062a6c94",
   "metadata": {
    "id": "062a6c94"
   },
   "outputs": [],
   "source": [
    "# data = data.drop(['floor', 'floors_total'], axis=1)"
   ]
  },
  {
   "cell_type": "code",
   "execution_count": null,
   "id": "5aa44569",
   "metadata": {
    "id": "5aa44569"
   },
   "outputs": [],
   "source": [
    "data['floor_type'].unique()"
   ]
  },
  {
   "cell_type": "code",
   "execution_count": null,
   "id": "ed59dc7b",
   "metadata": {
    "id": "ed59dc7b"
   },
   "outputs": [],
   "source": [
    "data['floor_type'] = data['floor_type'].fillna('Нет информации')"
   ]
  },
  {
   "cell_type": "code",
   "execution_count": null,
   "id": "e0eee260",
   "metadata": {
    "id": "e0eee260"
   },
   "outputs": [],
   "source": [
    "data['floor_type'].value_counts()"
   ]
  },
  {
   "cell_type": "code",
   "execution_count": null,
   "id": "f191d32f",
   "metadata": {
    "id": "f191d32f"
   },
   "outputs": [],
   "source": [
    "data[data['floor_type'] == 'Деревянные']"
   ]
  },
  {
   "cell_type": "code",
   "execution_count": null,
   "id": "3172f098",
   "metadata": {
    "id": "3172f098"
   },
   "outputs": [],
   "source": [
    "data = data[(data['floor_type'] != 'Деревянные') & (data['floor_type'] != 'Смешанные') ]"
   ]
  },
  {
   "cell_type": "code",
   "execution_count": null,
   "id": "55288f3e",
   "metadata": {
    "id": "55288f3e"
   },
   "outputs": [],
   "source": [
    "print(data.loc[0, 'address'])"
   ]
  },
  {
   "cell_type": "code",
   "execution_count": null,
   "id": "25fec321",
   "metadata": {
    "id": "25fec321"
   },
   "outputs": [],
   "source": [
    "data['region'] = data['address'].apply(lambda x: x.split(',')[2])"
   ]
  },
  {
   "cell_type": "code",
   "execution_count": null,
   "id": "0e74c07e",
   "metadata": {
    "id": "0e74c07e"
   },
   "outputs": [],
   "source": [
    "list_region = data['region'].unique()\n",
    "list_region"
   ]
  },
  {
   "cell_type": "code",
   "execution_count": null,
   "id": "818ae9a9",
   "metadata": {
    "id": "818ae9a9"
   },
   "outputs": [],
   "source": [
    "list_region_new = ['Советский', 'Автозаводский', 'Приокский',\n",
    "       'Нижегородский', 'Ленинский', 'Канавинский',\n",
    "       'Московский', 'Сормовский', 'Кудьма поселок']"
   ]
  },
  {
   "cell_type": "code",
   "execution_count": null,
   "id": "6e650d2c",
   "metadata": {
    "id": "6e650d2c"
   },
   "outputs": [],
   "source": [
    "data['region'] = data['region'].replace(list_region, list_region_new)"
   ]
  },
  {
   "cell_type": "code",
   "execution_count": null,
   "id": "4300ae4c",
   "metadata": {
    "id": "4300ae4c"
   },
   "outputs": [],
   "source": [
    "data['region'].value_counts()"
   ]
  },
  {
   "cell_type": "code",
   "execution_count": null,
   "id": "f361d9ee",
   "metadata": {
    "id": "f361d9ee"
   },
   "outputs": [],
   "source": [
    "data = data[data['region'] != 'Кудьма поселок']"
   ]
  },
  {
   "cell_type": "code",
   "execution_count": null,
   "id": "dda73645",
   "metadata": {
    "id": "dda73645"
   },
   "outputs": [],
   "source": [
    "data = data.drop('address', axis=1)"
   ]
  },
  {
   "cell_type": "code",
   "execution_count": null,
   "id": "8e7cde96",
   "metadata": {
    "id": "8e7cde96"
   },
   "outputs": [],
   "source": [
    "data['price'].sample(5)"
   ]
  },
  {
   "cell_type": "code",
   "execution_count": null,
   "id": "b1ab1732",
   "metadata": {
    "id": "b1ab1732"
   },
   "outputs": [],
   "source": [
    "data['price'] = data['price'].str.findall(r'(\\d\\,.\\d|\\d+)').str.join('')"
   ]
  },
  {
   "cell_type": "code",
   "execution_count": null,
   "id": "c87159f5",
   "metadata": {
    "id": "c87159f5"
   },
   "outputs": [],
   "source": [
    "data['price'] = pd.to_numeric(data['price'])"
   ]
  },
  {
   "cell_type": "code",
   "execution_count": null,
   "id": "13d9c43c",
   "metadata": {
    "id": "13d9c43c"
   },
   "outputs": [],
   "source": [
    "data['price'].min()"
   ]
  },
  {
   "cell_type": "code",
   "execution_count": null,
   "id": "d9ce1d02",
   "metadata": {
    "id": "d9ce1d02"
   },
   "outputs": [],
   "source": [
    "data['price'].max()"
   ]
  },
  {
   "cell_type": "code",
   "execution_count": null,
   "id": "b1edbc55",
   "metadata": {
    "id": "b1edbc55"
   },
   "outputs": [],
   "source": [
    "data['price'].hist(bins=50)"
   ]
  },
  {
   "cell_type": "code",
   "execution_count": null,
   "id": "aef056fd",
   "metadata": {
    "id": "aef056fd"
   },
   "outputs": [],
   "source": [
    "data = data[data['price'] < 10e6]"
   ]
  },
  {
   "cell_type": "markdown",
   "id": "8f6ae251",
   "metadata": {
    "id": "8f6ae251"
   },
   "source": [
    "### Обработка столбца - количество лифтов"
   ]
  },
  {
   "cell_type": "code",
   "execution_count": null,
   "id": "d44277aa",
   "metadata": {
    "id": "d44277aa"
   },
   "outputs": [],
   "source": [
    "data['type_of_elevators'].isna().sum()"
   ]
  },
  {
   "cell_type": "code",
   "execution_count": null,
   "id": "f05b558a",
   "metadata": {
    "id": "f05b558a"
   },
   "outputs": [],
   "source": [
    "data['type_of_elevators'] = data['type_of_elevators'].fillna('Нет информации')"
   ]
  },
  {
   "cell_type": "code",
   "execution_count": null,
   "id": "6a7924bd",
   "metadata": {
    "id": "6a7924bd"
   },
   "outputs": [],
   "source": [
    "data['type_of_elevators'].value_counts()"
   ]
  },
  {
   "cell_type": "code",
   "execution_count": null,
   "id": "38aefff7",
   "metadata": {
    "id": "38aefff7"
   },
   "outputs": [],
   "source": [
    "data.loc[data['type_of_elevators'] == 'Нет информации', 'floors_total'].value_counts()"
   ]
  },
  {
   "cell_type": "code",
   "execution_count": null,
   "id": "2f68ad81",
   "metadata": {
    "id": "2f68ad81"
   },
   "outputs": [],
   "source": [
    "data.loc[data['floors_total'] == 5, 'type_of_elevators'].value_counts()"
   ]
  },
  {
   "cell_type": "code",
   "execution_count": null,
   "id": "b45fe919",
   "metadata": {
    "id": "b45fe919"
   },
   "outputs": [],
   "source": [
    "# data.loc[data['type_of_elevators'] != 'Нет информации', 'elevator'] = 1"
   ]
  },
  {
   "cell_type": "code",
   "execution_count": null,
   "id": "96a5ee46",
   "metadata": {
    "id": "96a5ee46"
   },
   "outputs": [],
   "source": [
    "# data.loc[data['type_of_elevators'] == 'Нет информации', 'elevator'] = 0"
   ]
  },
  {
   "cell_type": "code",
   "execution_count": null,
   "id": "69f038ef",
   "metadata": {
    "id": "69f038ef"
   },
   "outputs": [],
   "source": [
    "def is_service_elevator(input_string):\n",
    "    if 'груз' in input_string.lower():\n",
    "        return 1\n",
    "    else:\n",
    "        return 0"
   ]
  },
  {
   "cell_type": "code",
   "execution_count": null,
   "id": "b9b7d35d",
   "metadata": {
    "id": "b9b7d35d"
   },
   "outputs": [],
   "source": [
    "def is_passenger_elevator(input_string):\n",
    "    if 'пассажир' in input_string.lower():\n",
    "        return 1\n",
    "    else:\n",
    "        return 0"
   ]
  },
  {
   "cell_type": "code",
   "execution_count": null,
   "id": "f8fb9003",
   "metadata": {
    "id": "f8fb9003"
   },
   "outputs": [],
   "source": [
    "data['service_elevator'] = data['type_of_elevators'].apply(is_service_elevator)"
   ]
  },
  {
   "cell_type": "code",
   "execution_count": null,
   "id": "460c036d",
   "metadata": {
    "id": "460c036d"
   },
   "outputs": [],
   "source": [
    "data['passenger_elevator'] = data['type_of_elevators'].apply(is_passenger_elevator)"
   ]
  },
  {
   "cell_type": "code",
   "execution_count": null,
   "id": "9935a0eb",
   "metadata": {
    "id": "9935a0eb"
   },
   "outputs": [],
   "source": [
    "data = data.drop('type_of_elevators', axis=1)"
   ]
  },
  {
   "cell_type": "code",
   "execution_count": null,
   "id": "22e0edd9",
   "metadata": {
    "id": "22e0edd9"
   },
   "outputs": [],
   "source": [
    "pd.DataFrame(round(data.isna().mean()*100,1)).style.background_gradient('coolwarm')"
   ]
  },
  {
   "cell_type": "code",
   "execution_count": null,
   "id": "d9ae0aba",
   "metadata": {
    "id": "d9ae0aba"
   },
   "outputs": [],
   "source": [
    "data.info()"
   ]
  },
  {
   "cell_type": "markdown",
   "id": "788f2f02",
   "metadata": {
    "id": "788f2f02"
   },
   "source": [
    "- [ ] Наименование\n",
    "- [ ] Тип жилья\n",
    "- [ ] Общая площадь\n",
    "- [ ] Жилая площадь\n",
    "- [ ] Площадь кухни\n",
    "- [ ] Высота потолков\n",
    "- [ ] Санузел\n",
    "- [x] Ремонт\n",
    "- [ ] Год постройки\n",
    "- [ ] Мусоропровод\n",
    "- [ ] Тип дома\n",
    "- [ ] Тип перекрытий\n",
    "- [ ] Подъезды\n",
    "- [ ] Отопление\n",
    "- [ ] Аварийность\n",
    "- [ ] Этаж\n",
    "- [ ] Адрес\n",
    "- [ ] Цена\n",
    "- [ ] Балкон/лоджия\n",
    "- [ ] Вид из окон\n",
    "- [ ] Количество лифтов\n",
    "- [ ] Парковка\n",
    "- [ ] Газоснабжение\n",
    "- [ ] Строительная серия"
   ]
  },
  {
   "cell_type": "code",
   "execution_count": null,
   "id": "15d6ba29",
   "metadata": {
    "id": "15d6ba29"
   },
   "outputs": [],
   "source": [
    "# data = data.drop(['entrances', 'year'], axis=1)"
   ]
  },
  {
   "cell_type": "code",
   "execution_count": null,
   "id": "b8a10ddd",
   "metadata": {
    "id": "b8a10ddd"
   },
   "outputs": [],
   "source": [
    "#data.loc[:, 'year'] = data['year'].astype(str)"
   ]
  },
  {
   "cell_type": "code",
   "execution_count": null,
   "id": "b18eb266",
   "metadata": {
    "id": "b18eb266"
   },
   "outputs": [],
   "source": [
    "data.loc[:, 'entrances'] = data['entrances'].astype(str)"
   ]
  },
  {
   "cell_type": "code",
   "execution_count": null,
   "id": "16b4b64d",
   "metadata": {
    "id": "16b4b64d"
   },
   "outputs": [],
   "source": [
    "data.duplicated().sum()"
   ]
  },
  {
   "cell_type": "code",
   "execution_count": null,
   "id": "42cd1bf4",
   "metadata": {
    "id": "42cd1bf4"
   },
   "outputs": [],
   "source": [
    "data = data.drop_duplicates().reset_index(drop=True)"
   ]
  },
  {
   "cell_type": "markdown",
   "id": "ede21b0a",
   "metadata": {
    "id": "ede21b0a"
   },
   "source": [
    "### Обработка признака тип дома"
   ]
  },
  {
   "cell_type": "code",
   "execution_count": null,
   "id": "60138a7d",
   "metadata": {
    "id": "60138a7d"
   },
   "outputs": [],
   "source": [
    "data['type_of_building'].unique()"
   ]
  },
  {
   "cell_type": "code",
   "execution_count": null,
   "id": "608ea79c",
   "metadata": {
    "id": "608ea79c"
   },
   "outputs": [],
   "source": [
    "data['type_of_building'] = data['type_of_building'].fillna(value=\"Нет информации\")"
   ]
  },
  {
   "cell_type": "code",
   "execution_count": null,
   "id": "acb109fa",
   "metadata": {
    "id": "acb109fa"
   },
   "outputs": [],
   "source": [
    "data['type_of_building'].value_counts()"
   ]
  },
  {
   "cell_type": "markdown",
   "id": "c68986de",
   "metadata": {
    "id": "c68986de"
   },
   "source": [
    "## Исследовательский анализ данных"
   ]
  },
  {
   "cell_type": "code",
   "execution_count": null,
   "id": "a5bb314f",
   "metadata": {
    "id": "a5bb314f"
   },
   "outputs": [],
   "source": [
    "data.sample(2)"
   ]
  },
  {
   "cell_type": "code",
   "execution_count": null,
   "id": "0722477a",
   "metadata": {
    "id": "0722477a"
   },
   "outputs": [],
   "source": [
    "fig = plt.figure()\n",
    "ax = fig.add_subplot()\n",
    "fig.suptitle('Распределение квартир по количеству комнат', fontsize=11, fontweight='bold', y=0.95)\n",
    "sns.histplot(data=data, y='rooms')\n",
    "ax.set(xlabel='Количество квартир, шт.', ylabel='Количество комнат')\n",
    "plt.show();"
   ]
  },
  {
   "cell_type": "markdown",
   "id": "6c673b73",
   "metadata": {
    "id": "6c673b73"
   },
   "source": [
    "Из графика видно, что однокомнатные квартиры имеют большее распространение."
   ]
  },
  {
   "cell_type": "code",
   "execution_count": null,
   "id": "9a772403",
   "metadata": {
    "id": "9a772403"
   },
   "outputs": [],
   "source": [
    "fig = plt.figure()\n",
    "ax = fig.add_subplot()\n",
    "fig.suptitle('Распределение квартир по районам', fontsize=11, fontweight='bold', y=0.95)\n",
    "sns.histplot(data=data, y='region')\n",
    "ax.set(xlabel='Количество квартир, шт.', ylabel='Район квартиры')\n",
    "plt.show();"
   ]
  },
  {
   "cell_type": "markdown",
   "id": "c9806daf",
   "metadata": {
    "id": "c9806daf"
   },
   "source": [
    "Наибольшее количество квартир в данных имеют Автозаводский район. Меньшее количество квартир представленно Нижегородским районом."
   ]
  },
  {
   "cell_type": "code",
   "execution_count": null,
   "id": "c8bb0635",
   "metadata": {
    "id": "c8bb0635"
   },
   "outputs": [],
   "source": [
    "fig = plt.figure()\n",
    "ax = fig.add_subplot()\n",
    "fig.suptitle('Распределение квартир по площадям', fontsize=11, fontweight='bold', y=0.95)\n",
    "sns.histplot(data=data, x='total_area')\n",
    "ax.set(xlabel='Площадь квартиры', ylabel='Количество квартир, шт.')\n",
    "plt.show();"
   ]
  },
  {
   "cell_type": "markdown",
   "id": "bedf5b57",
   "metadata": {
    "id": "bedf5b57"
   },
   "source": [
    "Среднее значение общей площади квартир представленных в выборке находится около 40 кв.м."
   ]
  },
  {
   "cell_type": "code",
   "execution_count": null,
   "id": "be8b9b7e",
   "metadata": {
    "id": "be8b9b7e"
   },
   "outputs": [],
   "source": [
    "fig = plt.figure(figsize=[10, 5])\n",
    "ax = fig.add_subplot()\n",
    "fig.suptitle('Распределение квартир по районам', fontsize=11, fontweight='bold', y=0.95)\n",
    "sns.countplot(data=data, x='region', hue='rooms')\n",
    "ax.set(xlabel='Район', ylabel='Количество')\n",
    "ax.legend(title=\"Количество комнат\")\n",
    "plt.xticks(rotation = 45)\n",
    "plt.show();"
   ]
  },
  {
   "cell_type": "code",
   "execution_count": null,
   "id": "0b04cda8",
   "metadata": {
    "id": "0b04cda8"
   },
   "outputs": [],
   "source": [
    "fig = plt.figure(figsize=[10, 5])\n",
    "ax = fig.add_subplot()\n",
    "fig.suptitle('Распределение стоимости квартир по районам', fontsize=11, fontweight='bold', y=0.95)\n",
    "sns.barplot(data=data, x='region', y='price', hue='rooms')\n",
    "ax.set(xlabel='Район', ylabel='Стоимость')\n",
    "ax.legend(title=\"Количество комнат\")\n",
    "plt.xticks(rotation = 45)\n",
    "plt.show();"
   ]
  },
  {
   "cell_type": "code",
   "execution_count": null,
   "id": "c8b6faea",
   "metadata": {
    "id": "c8b6faea"
   },
   "outputs": [],
   "source": [
    "price_for_sq_metr = (\n",
    "    data.groupby('rooms')['price'].mean()\n",
    "    /\n",
    "    data.groupby('rooms')['total_area'].mean()\n",
    ")\n",
    "\n",
    "\n",
    "fig = plt.figure()\n",
    "ax = fig.add_subplot()\n",
    "fig.suptitle('Распределение стоимости квадратного метра по типу квартиры', fontsize=11, fontweight='bold', y=0.95)\n",
    "sns.barplot(x=price_for_sq_metr.index, y=price_for_sq_metr)\n",
    "ax.set(xlabel='Тип квартиры', ylabel='Стоимость кв. м., тыс. руб.')\n",
    "plt.xticks(rotation = 45)\n",
    "plt.show();"
   ]
  },
  {
   "cell_type": "code",
   "execution_count": null,
   "id": "a5c04e15",
   "metadata": {
    "id": "a5c04e15"
   },
   "outputs": [],
   "source": [
    "sns.scatterplot(data=data, x=\"total_area\", y=\"price\")"
   ]
  },
  {
   "cell_type": "code",
   "execution_count": null,
   "id": "b21a9a80",
   "metadata": {
    "id": "b21a9a80"
   },
   "outputs": [],
   "source": [
    "sns.scatterplot(data=data, x=\"living_area\", y=\"price\")"
   ]
  },
  {
   "cell_type": "code",
   "execution_count": null,
   "id": "42967639",
   "metadata": {
    "id": "42967639"
   },
   "outputs": [],
   "source": [
    "data.info()"
   ]
  },
  {
   "cell_type": "markdown",
   "id": "20299dcf",
   "metadata": {
    "id": "20299dcf"
   },
   "source": [
    "### Генерация признаков"
   ]
  },
  {
   "cell_type": "code",
   "execution_count": null,
   "id": "66b1d744",
   "metadata": {
    "id": "66b1d744"
   },
   "outputs": [],
   "source": [
    "data = data.drop('heating', axis=1)"
   ]
  },
  {
   "cell_type": "code",
   "execution_count": null,
   "id": "0d64f218",
   "metadata": {
    "id": "0d64f218"
   },
   "outputs": [],
   "source": [
    "data['ref_area'] = data['living_area'] / data['rooms']"
   ]
  },
  {
   "cell_type": "code",
   "execution_count": null,
   "id": "7c026cc9",
   "metadata": {
    "id": "7c026cc9"
   },
   "outputs": [],
   "source": [
    "data['ref_liv_kitch'] = data['living_area'] / data['kitchen_area']"
   ]
  },
  {
   "cell_type": "markdown",
   "id": "28e38714",
   "metadata": {
    "id": "28e38714"
   },
   "source": [
    "**Корреляция признаков:**"
   ]
  },
  {
   "cell_type": "code",
   "execution_count": null,
   "id": "a1380222",
   "metadata": {
    "id": "a1380222",
    "scrolled": false
   },
   "outputs": [],
   "source": [
    "sns.set(font_scale=0.7)\n",
    "plt.figure(figsize=(10, 10));\n",
    "sns.heatmap(\n",
    "    data.phik_matrix(),\n",
    "    cmap='RdYlGn',\n",
    "    annot=True,\n",
    "    vmin=0, vmax=1);"
   ]
  },
  {
   "cell_type": "markdown",
   "id": "a1c38c12",
   "metadata": {
    "id": "a1c38c12"
   },
   "source": [
    "apartments, floor_type"
   ]
  },
  {
   "cell_type": "markdown",
   "id": "af73fbf8",
   "metadata": {
    "id": "af73fbf8"
   },
   "source": [
    "По корреляционной матрицы можно сделать вывод, что на целевой признак (price) минимальное значение оказывает признак этаж квартиры (floor). Возможно это связано с тем, что квартир располагающихся на первом этаже большинство в представленных данных. Таже малое влияние оказывает признак жилая площадь (living_area)."
   ]
  },
  {
   "cell_type": "code",
   "execution_count": null,
   "id": "b0da07c3",
   "metadata": {
    "id": "b0da07c3"
   },
   "outputs": [],
   "source": [
    "data = data.drop(['apartments', 'accident_rate', 'floor_type', 'living_area',\n",
    "                  'entrances', 'first_floor', 'last_floor', 'kitchen_area'], axis=1)"
   ]
  },
  {
   "cell_type": "code",
   "execution_count": null,
   "id": "b784bb5d",
   "metadata": {
    "id": "b784bb5d"
   },
   "outputs": [],
   "source": [
    "sns.set(font_scale=0.7)\n",
    "plt.figure(figsize=(10, 10));\n",
    "sns.heatmap(\n",
    "    data.phik_matrix(),\n",
    "    cmap='RdYlGn',\n",
    "    annot=True,\n",
    "    vmin=0, vmax=1);"
   ]
  },
  {
   "cell_type": "markdown",
   "id": "d1b0f411",
   "metadata": {
    "id": "d1b0f411"
   },
   "source": [
    "## Подготовка тренировочной и тестовой выборок"
   ]
  },
  {
   "cell_type": "code",
   "execution_count": null,
   "id": "b0569072",
   "metadata": {
    "id": "b0569072"
   },
   "outputs": [],
   "source": [
    "RANDOM_STATE = 221023"
   ]
  },
  {
   "cell_type": "markdown",
   "id": "dcdb8b8d",
   "metadata": {
    "id": "dcdb8b8d"
   },
   "source": [
    "Разделим данные на признаки и целевой признак"
   ]
  },
  {
   "cell_type": "code",
   "execution_count": null,
   "id": "4f4a6096",
   "metadata": {
    "id": "4f4a6096"
   },
   "outputs": [],
   "source": [
    "features = data.drop(['price'], axis=1)\n",
    "target= data['price']"
   ]
  },
  {
   "cell_type": "code",
   "execution_count": null,
   "id": "55dff027",
   "metadata": {
    "id": "55dff027"
   },
   "outputs": [],
   "source": [
    "features.duplicated().sum()"
   ]
  },
  {
   "cell_type": "code",
   "execution_count": null,
   "id": "1b0c4787",
   "metadata": {
    "id": "1b0c4787"
   },
   "outputs": [],
   "source": [
    "duplicate_indexes = features.duplicated()"
   ]
  },
  {
   "cell_type": "code",
   "execution_count": null,
   "id": "f248aaf5",
   "metadata": {
    "id": "f248aaf5"
   },
   "outputs": [],
   "source": [
    "features = features[~duplicate_indexes]\n",
    "target = target[~duplicate_indexes]"
   ]
  },
  {
   "cell_type": "code",
   "execution_count": null,
   "id": "c0126ac3",
   "metadata": {
    "id": "c0126ac3"
   },
   "outputs": [],
   "source": [
    "features_train, features_test, target_train, target_test = train_test_split(\n",
    "    features, target, test_size=0.25, random_state=RANDOM_STATE)"
   ]
  },
  {
   "cell_type": "markdown",
   "id": "97a1beab",
   "metadata": {
    "id": "97a1beab"
   },
   "source": [
    "Посмотрим на размеры получившихся выборок"
   ]
  },
  {
   "cell_type": "code",
   "execution_count": null,
   "id": "9735d46e",
   "metadata": {
    "id": "9735d46e"
   },
   "outputs": [],
   "source": [
    "print(features_train.shape)\n",
    "print(target_train.shape)\n",
    "\n",
    "print(features_test.shape)\n",
    "print(target_test.shape)"
   ]
  },
  {
   "cell_type": "markdown",
   "id": "cb342259",
   "metadata": {
    "id": "cb342259"
   },
   "source": [
    "Для категориальных признаков выполнил прямое кодирование, а числовые признаки промасштабируем."
   ]
  },
  {
   "cell_type": "code",
   "execution_count": null,
   "id": "daa4b9e3",
   "metadata": {
    "id": "daa4b9e3"
   },
   "outputs": [],
   "source": [
    "cat_cols = ['renovation', 'region', 'gas_supply', 'type_of_building']\n",
    "\n",
    "num_cols = list(features_train.drop(cat_cols, axis=1).columns)\n",
    "num_cols"
   ]
  },
  {
   "cell_type": "code",
   "execution_count": null,
   "id": "06e59c3b",
   "metadata": {
    "id": "06e59c3b"
   },
   "outputs": [],
   "source": [
    "data[cat_cols].sample(5)"
   ]
  },
  {
   "cell_type": "code",
   "execution_count": null,
   "id": "d04b9351",
   "metadata": {
    "id": "d04b9351"
   },
   "outputs": [],
   "source": [
    "cat_renovation = data['renovation'].unique()\n",
    "cat_region = data['region'].unique()\n",
    "cat_gas_supply = data['gas_supply'].unique()\n",
    "cat_type_of_building = data['type_of_building'].unique()\n",
    "\n",
    "encoder_cat = OneHotEncoder(\n",
    "    categories=[cat_renovation, cat_region, cat_gas_supply, cat_type_of_building],\n",
    "    handle_unknown='ignore'\n",
    ")"
   ]
  },
  {
   "cell_type": "code",
   "execution_count": null,
   "id": "aea94961",
   "metadata": {
    "id": "aea94961"
   },
   "outputs": [],
   "source": [
    "scaler = StandardScaler()"
   ]
  },
  {
   "cell_type": "code",
   "execution_count": null,
   "id": "de096432",
   "metadata": {
    "id": "de096432"
   },
   "outputs": [],
   "source": [
    "transformer = ColumnTransformer([('cat_cols', encoder_cat, cat_cols),\n",
    "                                ('num_cols', scaler, num_cols)])"
   ]
  },
  {
   "cell_type": "markdown",
   "id": "9539b86c",
   "metadata": {
    "id": "9539b86c"
   },
   "source": [
    "Создадим функцию поиска оптимальных гиперпараметров моделей"
   ]
  },
  {
   "cell_type": "code",
   "execution_count": null,
   "id": "f9b8252f",
   "metadata": {
    "id": "f9b8252f"
   },
   "outputs": [],
   "source": [
    "def make_grid_search(model, param_grid, features_train, target_train):\n",
    "    pipe = Pipeline([('preprocessing', transformer), ('model', model)])\n",
    "    grid_search = GridSearchCV(pipe, param_grid=param_grid, cv=5, scoring='neg_root_mean_squared_error', verbose=2)\n",
    "\n",
    "    model_grid = grid_search.fit(features_train, target_train)\n",
    "\n",
    "    print(f\"Лучшие параметры модели:\")\n",
    "    print(grid_search.best_params_)\n",
    "    print('-'*10)\n",
    "    print(f\"Оценка RMSE модели: {grid_search.best_score_:.3f}\")\n",
    "\n",
    "    return model_grid"
   ]
  },
  {
   "cell_type": "markdown",
   "id": "b794baea",
   "metadata": {
    "id": "b794baea"
   },
   "source": [
    "## Обучение моделей"
   ]
  },
  {
   "cell_type": "markdown",
   "id": "895ba884",
   "metadata": {
    "id": "895ba884"
   },
   "source": [
    "### Обучение линейной регрессии"
   ]
  },
  {
   "cell_type": "code",
   "execution_count": null,
   "id": "4ba7fe52",
   "metadata": {
    "id": "4ba7fe52",
    "scrolled": true
   },
   "outputs": [],
   "source": [
    "%%time\n",
    "model = LinearRegression()\n",
    "param_grid={}\n",
    "\n",
    "model_lr = make_grid_search(model, param_grid, features_train, target_train);"
   ]
  },
  {
   "cell_type": "code",
   "execution_count": null,
   "id": "cbda1338",
   "metadata": {
    "id": "cbda1338"
   },
   "outputs": [],
   "source": [
    "predictions_test = model_lr.predict(features_test)\n",
    "\n",
    "result = mean_squared_error(target_test, predictions_test)**0.5\n",
    "print(result)"
   ]
  },
  {
   "cell_type": "code",
   "execution_count": null,
   "id": "e901bf37",
   "metadata": {
    "id": "e901bf37"
   },
   "outputs": [],
   "source": [
    "%%time\n",
    "model = LinearRegression()\n",
    "param_grid={}\n",
    "\n",
    "model_lr = make_grid_search(model, param_grid, features, target);"
   ]
  },
  {
   "cell_type": "markdown",
   "id": "1489793b",
   "metadata": {
    "id": "1489793b"
   },
   "source": [
    "### Обучение дерева решений"
   ]
  },
  {
   "cell_type": "code",
   "execution_count": null,
   "id": "925a1d7e",
   "metadata": {
    "id": "925a1d7e",
    "scrolled": true
   },
   "outputs": [],
   "source": [
    "%%time\n",
    "model = DecisionTreeRegressor(random_state=RANDOM_STATE)\n",
    "param_grid={\n",
    "             'model__max_depth':list(range(1, 15, 4))\n",
    "           }\n",
    "\n",
    "model_dtr = make_grid_search(model, param_grid, features_train, target_train)"
   ]
  },
  {
   "cell_type": "code",
   "execution_count": null,
   "id": "d555aee6",
   "metadata": {
    "id": "d555aee6"
   },
   "outputs": [],
   "source": [
    "predictions_test = model_dtr.predict(features_test)\n",
    "\n",
    "result = mean_squared_error(target_test, predictions_test)**0.5\n",
    "print(result)"
   ]
  },
  {
   "cell_type": "markdown",
   "id": "58d7f38c",
   "metadata": {
    "id": "58d7f38c"
   },
   "source": [
    "### Обучение модели градиентного бустинга CatBoostRegressor"
   ]
  },
  {
   "cell_type": "code",
   "execution_count": null,
   "id": "d3c41df3",
   "metadata": {
    "id": "d3c41df3",
    "scrolled": true
   },
   "outputs": [],
   "source": [
    "%%time\n",
    "model = CatBoostRegressor(loss_function=\"RMSE\", iterations=100, random_state=RANDOM_STATE, verbose=0)\n",
    "param_grid={\n",
    "              'model__depth':list(range(1, 9, 2)),\n",
    "              'model__learning_rate':list([x/10 for x in range(1, 7, 2)])\n",
    "           }\n",
    "\n",
    "model_cbr = make_grid_search(model, param_grid, features_train, target_train)"
   ]
  },
  {
   "cell_type": "code",
   "execution_count": null,
   "id": "68c4355b",
   "metadata": {
    "id": "68c4355b"
   },
   "outputs": [],
   "source": [
    "from catboost import CatBoostClassifier, Pool, metrics, cv"
   ]
  },
  {
   "cell_type": "code",
   "execution_count": null,
   "id": "4870e8c2",
   "metadata": {
    "id": "4870e8c2"
   },
   "outputs": [],
   "source": [
    "model2 = CatBoostClassifier(\n",
    "    custom_loss=[metrics.Accuracy()],\n",
    "    random_seed=42,\n",
    "    logging_level='Silent'\n",
    ")"
   ]
  },
  {
   "cell_type": "code",
   "execution_count": null,
   "id": "47210a63",
   "metadata": {
    "id": "47210a63"
   },
   "outputs": [],
   "source": [
    "#cat_features\n",
    "model = CatBoostRegressor(loss_function=\"RMSE\", iterations=100, random_state=RANDOM_STATE, verbose=0)"
   ]
  },
  {
   "cell_type": "markdown",
   "id": "025d34eb",
   "metadata": {
    "id": "025d34eb"
   },
   "source": [
    "## Тестирование"
   ]
  },
  {
   "cell_type": "code",
   "execution_count": null,
   "id": "7197fe55",
   "metadata": {
    "id": "7197fe55"
   },
   "outputs": [],
   "source": [
    "predictions_test = model_cbr.predict(features_test)\n",
    "\n",
    "result = mean_squared_error(target_test, predictions_test)**0.5\n",
    "print(result)"
   ]
  },
  {
   "cell_type": "markdown",
   "id": "daadb1af",
   "metadata": {
    "id": "daadb1af"
   },
   "source": [
    "Модель CatBoostRegressor показала значение метрики RMSE равным 645481."
   ]
  },
  {
   "cell_type": "code",
   "execution_count": null,
   "id": "fb543c07",
   "metadata": {
    "id": "fb543c07"
   },
   "outputs": [],
   "source": [
    "flat_me = [{\n",
    "    'total_area': 63,\n",
    "    'house_age': 2024-1985,\n",
    "    'floors_total': 9,\n",
    "    'rooms': 3,\n",
    "    'gas_supply': 'Центральное',\n",
    "    'passenger_elevator': 1,\n",
    "    'region': 'Приокский',\n",
    "    'ref_liv_kitch': 3.6,\n",
    "    'ref_area': 11,\n",
    "    'renovation': 'Евроремонт',\n",
    "    'floor': 7,\n",
    "    'type_of_building': 'Панельный',\n",
    "    'logie': 1,\n",
    "    'balcony': 1,\n",
    "    'number_of_bathrooms': 1,\n",
    "    'studio': 0,\n",
    "    'service_elevator': 0\n",
    "}]"
   ]
  },
  {
   "cell_type": "code",
   "execution_count": null,
   "id": "8d06b5ca",
   "metadata": {
    "id": "8d06b5ca"
   },
   "outputs": [],
   "source": [
    "flat_sister = [{\n",
    "    'total_area': 43,\n",
    "    'house_age': 2024-1980,\n",
    "    'floors_total': 5,\n",
    "    'rooms': 2,\n",
    "    'gas_supply': 'Центральное',\n",
    "    'passenger_elevator': 0,\n",
    "    'region': 'Автозаводский',\n",
    "    'ref_liv_kitch': 4,\n",
    "    'ref_area': 12,\n",
    "    'renovation': 'Евроремонт',\n",
    "    'floor': 2,\n",
    "    'type_of_building': 'Панельный',\n",
    "    'logie': 0,\n",
    "    'balcony': 1,\n",
    "    'number_of_bathrooms': 1,\n",
    "    'studio': 0,\n",
    "    'service_elevator': 0\n",
    "}]"
   ]
  },
  {
   "cell_type": "code",
   "execution_count": null,
   "id": "8ee9f3b1",
   "metadata": {
    "id": "8ee9f3b1"
   },
   "outputs": [],
   "source": [
    "(12+12)/6"
   ]
  },
  {
   "cell_type": "code",
   "execution_count": null,
   "id": "6d2e5207",
   "metadata": {
    "id": "6d2e5207"
   },
   "outputs": [],
   "source": [
    "(12+12)/2"
   ]
  },
  {
   "cell_type": "code",
   "execution_count": null,
   "id": "da90c951",
   "metadata": {
    "id": "da90c951"
   },
   "outputs": [],
   "source": [
    "data_flat_me = pd.DataFrame(flat_me)\n",
    "data_flat_sister = pd.DataFrame(flat_sister)"
   ]
  },
  {
   "cell_type": "code",
   "execution_count": null,
   "id": "945023b7",
   "metadata": {
    "id": "945023b7"
   },
   "outputs": [],
   "source": [
    "data_flat_me.head()"
   ]
  },
  {
   "cell_type": "code",
   "execution_count": null,
   "id": "PmsKnv6g2IYm",
   "metadata": {
    "id": "PmsKnv6g2IYm"
   },
   "outputs": [],
   "source": [
    "data_flat_sister.head()"
   ]
  },
  {
   "cell_type": "code",
   "execution_count": null,
   "id": "d25feeb7",
   "metadata": {
    "id": "d25feeb7"
   },
   "outputs": [],
   "source": [
    "round(model_cbr.predict(data_flat_me)[0])"
   ]
  },
  {
   "cell_type": "code",
   "execution_count": null,
   "id": "GFBvrGX32OjZ",
   "metadata": {
    "id": "GFBvrGX32OjZ"
   },
   "outputs": [],
   "source": [
    "round(model_cbr.predict(data_flat_sister)[0])"
   ]
  },
  {
   "cell_type": "markdown",
   "id": "45b2117c",
   "metadata": {
    "id": "45b2117c"
   },
   "source": [
    "Обучим модель на полном наборе данных - тренировочная выборка плюс тестовая выборка:"
   ]
  },
  {
   "cell_type": "code",
   "execution_count": null,
   "id": "05315528",
   "metadata": {
    "id": "05315528",
    "scrolled": true
   },
   "outputs": [],
   "source": [
    "%%time\n",
    "model = CatBoostRegressor(loss_function=\"RMSE\", iterations=100, random_state=RANDOM_STATE, verbose=0)\n",
    "param_grid={\n",
    "              'model__depth':list(range(1, 9, 2)),\n",
    "              'model__learning_rate':list([x/10 for x in range(1, 7, 2)])\n",
    "           }\n",
    "\n",
    "model_cbr = make_grid_search(model, param_grid, features, target)"
   ]
  },
  {
   "cell_type": "markdown",
   "id": "d48e3f97",
   "metadata": {
    "id": "d48e3f97"
   },
   "source": [
    "Проанализируем модель"
   ]
  },
  {
   "cell_type": "code",
   "execution_count": null,
   "id": "7357cdfb",
   "metadata": {
    "id": "7357cdfb"
   },
   "outputs": [],
   "source": [
    "data_predict = data.copy()\n",
    "data_predict['predict_error'] = (\n",
    "    100 * (model_cbr.predict(features) - target) / target\n",
    ")\n",
    "data_predict['predict_error_abs'] = abs(\n",
    "    100 * (model_cbr.predict(features) - target) / target\n",
    ")"
   ]
  },
  {
   "cell_type": "code",
   "execution_count": null,
   "id": "ef81b4db",
   "metadata": {
    "id": "ef81b4db"
   },
   "outputs": [],
   "source": [
    "fig = plt.figure(figsize=[10, 5])\n",
    "ax = fig.add_subplot()\n",
    "fig.suptitle('Распределение ошибки предсказания цены квартиры по районам', fontsize=11, fontweight='bold', y=0.95)\n",
    "sns.barplot(data=data_predict, x='region', y='predict_error', hue='rooms')\n",
    "ax.set(xlabel='Район', ylabel='Ошибка, %')\n",
    "ax.legend(title=\"Количество комнат\")\n",
    "plt.xticks(rotation = 45)\n",
    "plt.show();"
   ]
  },
  {
   "cell_type": "code",
   "execution_count": null,
   "id": "ef92cda8",
   "metadata": {
    "id": "ef92cda8"
   },
   "outputs": [],
   "source": [
    "fig = plt.figure(figsize=[10, 5])\n",
    "ax = fig.add_subplot()\n",
    "fig.suptitle('Распределение ошибки предсказания цены квартиры по районам', fontsize=11, fontweight='bold', y=0.95)\n",
    "sns.barplot(data=data_predict, x='region', y='predict_error_abs', hue='rooms')\n",
    "ax.set(xlabel='Район', ylabel='Ошибка, %')\n",
    "ax.legend(title=\"Количество комнат\")\n",
    "plt.xticks(rotation = 45)\n",
    "plt.show();"
   ]
  },
  {
   "cell_type": "markdown",
   "id": "9780173b",
   "metadata": {
    "id": "9780173b"
   },
   "source": [
    "Посмотрим на значимость признаков для модели."
   ]
  },
  {
   "cell_type": "code",
   "execution_count": null,
   "id": "f65abe39",
   "metadata": {
    "id": "f65abe39"
   },
   "outputs": [],
   "source": [
    "feature_importance = model_cbr.best_estimator_.named_steps[\"model\"].feature_importances_"
   ]
  },
  {
   "cell_type": "code",
   "execution_count": null,
   "id": "aa596a88",
   "metadata": {
    "id": "aa596a88"
   },
   "outputs": [],
   "source": [
    "feature_names = model_cbr.best_estimator_.named_steps[\"preprocessing\"].get_feature_names_out()"
   ]
  },
  {
   "cell_type": "code",
   "execution_count": null,
   "id": "142f7102",
   "metadata": {
    "id": "142f7102"
   },
   "outputs": [],
   "source": [
    "data_feature_importance = pd.DataFrame({'feature_names': feature_names, 'feature_importance': feature_importance})\n",
    "\n",
    "with pd.option_context('display.max_rows', None,):\n",
    "    print(data_feature_importance.sort_values(by=\"feature_importance\", ascending=False))"
   ]
  },
  {
   "cell_type": "code",
   "execution_count": null,
   "id": "ab40be53",
   "metadata": {
    "id": "ab40be53"
   },
   "outputs": [],
   "source": [
    "fig = plt.figure()\n",
    "ax = fig.add_subplot()\n",
    "\n",
    "fig.suptitle('Важность признаков для модели',\n",
    "             fontsize=11, fontweight='bold', y=0.95)\n",
    "\n",
    "\n",
    "data_feature_importance.sort_values(\n",
    "    by=['feature_importance'],\n",
    "    ascending=True).plot.barh(x='feature_names', y='feature_importance', ax=ax, legend=False);\n",
    "\n",
    "ax.set(xlabel='Значение важности', ylabel='Признаки')\n",
    "\n",
    "plt.show();"
   ]
  },
  {
   "cell_type": "code",
   "execution_count": null,
   "id": "a359bd32",
   "metadata": {
    "id": "a359bd32"
   },
   "outputs": [],
   "source": [
    "data.info()"
   ]
  }
 ],
 "metadata": {
  "colab": {
   "provenance": [],
   "toc_visible": true
  },
  "kernelspec": {
   "display_name": "Python 3 (ipykernel)",
   "language": "python",
   "name": "python3"
  },
  "language_info": {
   "codemirror_mode": {
    "name": "ipython",
    "version": 3
   },
   "file_extension": ".py",
   "mimetype": "text/x-python",
   "name": "python",
   "nbconvert_exporter": "python",
   "pygments_lexer": "ipython3",
   "version": "3.10.9"
  }
 },
 "nbformat": 4,
 "nbformat_minor": 5
}
